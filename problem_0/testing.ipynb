{
 "cells": [
  {
   "cell_type": "markdown",
   "id": "c57a6996-bd8a-4013-869d-1122d9784270",
   "metadata": {},
   "source": [
    "# Testing"
   ]
  },
  {
   "cell_type": "code",
   "execution_count": 36,
   "id": "7bbd034c-e6d0-4728-a534-81faaa882dde",
   "metadata": {},
   "outputs": [],
   "source": [
    "days_in_months = [31, 28, 31, 30, 31, 30, 31, 31, 30, 31, 30, 31]\n",
    "days_in_leap_months = [31, 29, 31, 30, 31, 30, 31, 31, 30, 31, 30, 31]\n",
    "_MONTHS_IN_YEAR = ['January', '28', 31, 30, 31, 30, 31, 31, 30, 31, 30, 31]"
   ]
  },
  {
   "cell_type": "code",
   "execution_count": 37,
   "id": "7cdb06a0-40b2-4d09-b89a-a2dc2b8ec0d0",
   "metadata": {},
   "outputs": [
    {
     "data": {
      "text/plain": [
       "[31]"
      ]
     },
     "execution_count": 37,
     "metadata": {},
     "output_type": "execute_result"
    }
   ],
   "source": [
    "days_in_leap_months[:1]"
   ]
  },
  {
   "cell_type": "code",
   "execution_count": null,
   "id": "0fce0690-aa69-4058-88d1-4ac259e5f9e0",
   "metadata": {},
   "outputs": [],
   "source": [
    "date1 = input('Please insert')"
   ]
  },
  {
   "cell_type": "code",
   "execution_count": 1,
   "id": "02cef4a9-218f-4d12-9689-3b16b86295a3",
   "metadata": {},
   "outputs": [],
   "source": [
    "date1 = '02/06/1983'\n",
    "date2 = '22/06/1983'"
   ]
  },
  {
   "cell_type": "code",
   "execution_count": 3,
   "id": "40d3a684-8517-4739-8000-f0da0e7192e8",
   "metadata": {},
   "outputs": [
    {
     "data": {
      "text/plain": [
       "['02', '06', '1983']"
      ]
     },
     "execution_count": 3,
     "metadata": {},
     "output_type": "execute_result"
    }
   ],
   "source": [
    "date1.split('/')"
   ]
  },
  {
   "cell_type": "code",
   "execution_count": 38,
   "id": "7549ed3e-5aa9-47ab-98d9-b80b3c8b8d21",
   "metadata": {},
   "outputs": [],
   "source": [
    "def is_leap(year):\n",
    "    \"year -> 1 if leap year, else 0.\"\n",
    "    return year % 4 == 0 and (year % 100 != 0 or year % 400 == 0)"
   ]
  },
  {
   "cell_type": "code",
   "execution_count": 39,
   "id": "9dd34b1a-eded-4520-a573-283d8417ba13",
   "metadata": {},
   "outputs": [
    {
     "data": {
      "text/plain": [
       "False"
      ]
     },
     "execution_count": 39,
     "metadata": {},
     "output_type": "execute_result"
    }
   ],
   "source": [
    "is_leap(1923)"
   ]
  },
  {
   "cell_type": "code",
   "execution_count": 251,
   "id": "bdada22d-08f9-46fa-bcac-19de0806967c",
   "metadata": {},
   "outputs": [],
   "source": [
    "def date_calc(start, end):\n",
    "    \n",
    "    days_in_months      = [31, 28, 31, 30, 31, 30, 31, 31, 30, 31, 30, 31]\n",
    "    days_in_leap_months = [31, 29, 31, 30, 31, 30, 31, 31, 30, 31, 30, 31]\n",
    "    \n",
    "    day1, month1, year1 = map(int, start.split('/'))\n",
    "    day2, month2, year2 = map(int, end.split('/'))\n",
    "    \n",
    "    day1 += 1\n",
    "#     day2 -= 1\n",
    "    \n",
    "\n",
    "    year_to_days = int((year2 - year1) * 365)\n",
    "\n",
    "    if is_leap(year1):\n",
    "\n",
    "        if month1 != 1:\n",
    "            months_to_days1 = sum(days_in_leap_months[:month1 - 1]) + day1\n",
    "        else:\n",
    "            months_to_days1 = day1\n",
    "    else:\n",
    "        if month1 != 1:\n",
    "            months_to_days1 = sum(days_in_months[:month1 - 1]) + day1\n",
    "        else:\n",
    "            months_to_days1 = day1\n",
    "\n",
    "\n",
    "\n",
    "    if is_leap(year2):\n",
    "#             year_to_days += 1\n",
    "        if month2 != 1:\n",
    "            months_to_days2 = sum(days_in_leap_months[:month2 - 1]) + day2\n",
    "        else:\n",
    "            months_to_days2 = day2\n",
    "    else:\n",
    "        if month2 != 1:\n",
    "            months_to_days2 = sum(days_in_months[:month2 - 1]) + day2\n",
    "        else:\n",
    "            months_to_days2 = day2\n",
    "            \n",
    "    leap_years_between = []\n",
    "    sorted_years = sorted((year1, year2))\n",
    "    \n",
    "    for y in range(sorted_years[0], sorted_years[1] + 1, 1):\n",
    "        if is_leap(y):\n",
    "            leap_years_between.append(1)\n",
    "    \n",
    "    leap_years_between = sum(leap_years_between)\n",
    "    \n",
    "    if leap_years_between >= 2: leap_years_between -= 2\n",
    "    elif leap_years_between == 1: leap_years_between -=1\n",
    "    \n",
    "    months_in_between = months_to_days2 - months_to_days1\n",
    "        \n",
    "        \n",
    "    your_num = abs(year_to_days + months_in_between + leap_years_between)\n",
    "    \n",
    "    print(f\"There are {your_num} days in between your dates\")"
   ]
  },
  {
   "cell_type": "code",
   "execution_count": 252,
   "id": "cfd1f66f-80d3-471b-a621-b63edec68ff7",
   "metadata": {},
   "outputs": [
    {
     "name": "stdout",
     "output_type": "stream",
     "text": [
      "There are 19 days in between your dates\n"
     ]
    }
   ],
   "source": [
    "date_calc('02/06/1983', '22/06/1983')"
   ]
  },
  {
   "cell_type": "code",
   "execution_count": 253,
   "id": "487703ce-7b41-4205-9f7e-a68789985ba0",
   "metadata": {},
   "outputs": [
    {
     "name": "stdout",
     "output_type": "stream",
     "text": [
      "There are 173 days in between your dates\n"
     ]
    }
   ],
   "source": [
    "date_calc('04/07/1984', '25/12/1984')"
   ]
  },
  {
   "cell_type": "code",
   "execution_count": 249,
   "id": "1785f783-06ac-4b5e-806d-d56eae37dbf6",
   "metadata": {},
   "outputs": [],
   "source": [
    "days_in_months      = [31, 28, 31, 30, 31, 30, 31, 31, 30, 31, 30, 31]\n",
    "days_in_leap_months = [31, 29, 31, 30, 31, 30, 31, 31, 30, 31, 30, 31]"
   ]
  },
  {
   "cell_type": "code",
   "execution_count": 254,
   "id": "b778e179-746d-45f1-a71f-ded41d9c6b2c",
   "metadata": {},
   "outputs": [
    {
     "name": "stdout",
     "output_type": "stream",
     "text": [
      "There are 1979 days in between your dates\n"
     ]
    }
   ],
   "source": [
    "date_calc('03/01/1989', '03/08/1983')"
   ]
  },
  {
   "cell_type": "code",
   "execution_count": 214,
   "id": "ffe8a2a0-3a14-4ddb-afe4-3e9bb8a95ba8",
   "metadata": {},
   "outputs": [],
   "source": [
    "day1, month1, year1 = map(int, '03/01/1989'.split('/'))\n",
    "day2, month2, year2 = map(int, '03/08/1983'.split('/'))"
   ]
  },
  {
   "cell_type": "code",
   "execution_count": 215,
   "id": "216421f8-6d29-4945-b7c0-fd268347147a",
   "metadata": {},
   "outputs": [
    {
     "data": {
      "text/plain": [
       "(3, 1, 1989)"
      ]
     },
     "execution_count": 215,
     "metadata": {},
     "output_type": "execute_result"
    }
   ],
   "source": [
    "day1, month1, year1"
   ]
  },
  {
   "cell_type": "code",
   "execution_count": 216,
   "id": "a1c260ad-945d-4011-8e46-ab8ecc61d103",
   "metadata": {},
   "outputs": [],
   "source": [
    "day1 +=1\n",
    "day2 -=1"
   ]
  },
  {
   "cell_type": "code",
   "execution_count": 217,
   "id": "6b1093a8-3936-420a-b360-f614405049e8",
   "metadata": {},
   "outputs": [
    {
     "data": {
      "text/plain": [
       "-2190"
      ]
     },
     "execution_count": 217,
     "metadata": {},
     "output_type": "execute_result"
    }
   ],
   "source": [
    "year_to_days = int((year2 - year1) * 365)\n",
    "year_to_days"
   ]
  },
  {
   "cell_type": "code",
   "execution_count": 218,
   "id": "163474cb-3b74-436a-9bab-2822e1a8d535",
   "metadata": {},
   "outputs": [],
   "source": [
    "if is_leap(year1):\n",
    "#             year_to_days += 1\n",
    "    if month1 != 1:\n",
    "        months_to_days1 = sum(days_in_leap_months[:month1 - 1]) + day1\n",
    "    else:\n",
    "        months_to_days1 = 0 + day1\n",
    "else:\n",
    "    if month1 != 1:\n",
    "        months_to_days1 = sum(days_in_months[:month1 - 1]) + day1\n",
    "    else:\n",
    "        months_to_days1 = 0 + day1"
   ]
  },
  {
   "cell_type": "code",
   "execution_count": 219,
   "id": "323cbfb1-290a-4f34-ac53-a55fd39867f2",
   "metadata": {},
   "outputs": [
    {
     "data": {
      "text/plain": [
       "4"
      ]
     },
     "execution_count": 219,
     "metadata": {},
     "output_type": "execute_result"
    }
   ],
   "source": [
    "months_to_days1"
   ]
  },
  {
   "cell_type": "code",
   "execution_count": 220,
   "id": "c0a7ad5c-0890-4e0a-8092-094af06f433d",
   "metadata": {},
   "outputs": [],
   "source": [
    "if is_leap(year2):\n",
    "#             year_to_days += 1\n",
    "    if month2 != 1:\n",
    "        months_to_days2 = sum(days_in_leap_months[:month2 - 1]) + day2\n",
    "    else:\n",
    "        months_to_days2 = 0 + day2\n",
    "else:\n",
    "    if month2 != 1:\n",
    "        months_to_days2 = sum(days_in_months[:month2 - 1]) + day2\n",
    "    else:\n",
    "        months_to_days2 = 0 + day2"
   ]
  },
  {
   "cell_type": "code",
   "execution_count": 221,
   "id": "eb738f1b-2549-44ce-a318-05f8495a9fab",
   "metadata": {},
   "outputs": [
    {
     "data": {
      "text/plain": [
       "[31, 29, 31, 30, 31, 30, 31]"
      ]
     },
     "execution_count": 221,
     "metadata": {},
     "output_type": "execute_result"
    }
   ],
   "source": [
    "days_in_leap_months[:month2 - 1]"
   ]
  },
  {
   "cell_type": "code",
   "execution_count": 222,
   "id": "003f4016-663d-4ef8-90e1-6eb3f20310a9",
   "metadata": {},
   "outputs": [
    {
     "data": {
      "text/plain": [
       "216"
      ]
     },
     "execution_count": 222,
     "metadata": {},
     "output_type": "execute_result"
    }
   ],
   "source": [
    "months_to_days2"
   ]
  },
  {
   "cell_type": "code",
   "execution_count": 223,
   "id": "a7bc1d42-a680-4e22-9f42-1c0f7b3e1fa2",
   "metadata": {},
   "outputs": [],
   "source": [
    "leap_years_between = []\n",
    "sorted_years = sorted((year1, year2))\n",
    "\n",
    "for y in range(sorted_years[0], sorted_years[1] + 1, 1):\n",
    "    if is_leap(y):\n",
    "        leap_years_between.append(1)"
   ]
  },
  {
   "cell_type": "code",
   "execution_count": 224,
   "id": "d462d541-d08e-4d62-9292-0494d35a34f2",
   "metadata": {},
   "outputs": [
    {
     "data": {
      "text/plain": [
       "[1, 1]"
      ]
     },
     "execution_count": 224,
     "metadata": {},
     "output_type": "execute_result"
    }
   ],
   "source": [
    "leap_years_between"
   ]
  },
  {
   "cell_type": "code",
   "execution_count": 225,
   "id": "9166db29-b881-4070-8646-23047775fc4c",
   "metadata": {},
   "outputs": [
    {
     "data": {
      "text/plain": [
       "[1983, 1989]"
      ]
     },
     "execution_count": 225,
     "metadata": {},
     "output_type": "execute_result"
    }
   ],
   "source": [
    "sorted_years"
   ]
  },
  {
   "cell_type": "code",
   "execution_count": 226,
   "id": "91e208d4-2328-46ca-b763-a560564b88ac",
   "metadata": {},
   "outputs": [
    {
     "data": {
      "text/plain": [
       "212"
      ]
     },
     "execution_count": 226,
     "metadata": {},
     "output_type": "execute_result"
    }
   ],
   "source": [
    "months_in_between = months_to_days2 - months_to_days1\n",
    "months_in_between"
   ]
  },
  {
   "cell_type": "code",
   "execution_count": 227,
   "id": "543ffdc7-8f5d-4d23-bd54-c8799dbf9b47",
   "metadata": {},
   "outputs": [
    {
     "data": {
      "text/plain": [
       "1976"
      ]
     },
     "execution_count": 227,
     "metadata": {},
     "output_type": "execute_result"
    }
   ],
   "source": [
    "your_num = abs(year_to_days + months_in_between + sum(leap_years_between))\n",
    "your_num"
   ]
  },
  {
   "cell_type": "code",
   "execution_count": 228,
   "id": "d866c99c-c30b-4c38-abe9-9fb806d5c05e",
   "metadata": {},
   "outputs": [
    {
     "name": "stdout",
     "output_type": "stream",
     "text": [
      "There are 1976 days in between your dates\n"
     ]
    }
   ],
   "source": [
    "print(f\"There are {your_num} days in between your dates\")"
   ]
  },
  {
   "cell_type": "code",
   "execution_count": 229,
   "id": "bc486498-abf5-4ad7-ad0e-494c1b482bd4",
   "metadata": {},
   "outputs": [
    {
     "name": "stdout",
     "output_type": "stream",
     "text": [
      "There are 750 days in between your dates\n"
     ]
    }
   ],
   "source": [
    "date_calc('13/04/1992', '03/05/1994')"
   ]
  },
  {
   "cell_type": "code",
   "execution_count": 128,
   "id": "01783242-7a85-4e97-b0c0-15cdc3f31028",
   "metadata": {},
   "outputs": [
    {
     "data": {
      "text/plain": [
       "[1890, 1940]"
      ]
     },
     "execution_count": 128,
     "metadata": {},
     "output_type": "execute_result"
    }
   ],
   "source": [
    "sorted((1940, 1890))"
   ]
  },
  {
   "cell_type": "code",
   "execution_count": null,
   "id": "ebf834c7-d1aa-4c26-ba49-863414e59e6d",
   "metadata": {},
   "outputs": [],
   "source": []
  }
 ],
 "metadata": {
  "kernelspec": {
   "display_name": "Python 3",
   "language": "python",
   "name": "python3"
  },
  "language_info": {
   "codemirror_mode": {
    "name": "ipython",
    "version": 3
   },
   "file_extension": ".py",
   "mimetype": "text/x-python",
   "name": "python",
   "nbconvert_exporter": "python",
   "pygments_lexer": "ipython3",
   "version": "3.9.5"
  }
 },
 "nbformat": 4,
 "nbformat_minor": 5
}
