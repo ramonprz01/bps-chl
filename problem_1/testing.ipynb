{
 "cells": [
  {
   "cell_type": "code",
   "execution_count": null,
   "id": "98332146-db7e-4419-8fda-ca494dd85a5f",
   "metadata": {},
   "outputs": [],
   "source": [
    "import requests\n",
    "import base64\n",
    "import os\n",
    "from pprint import pprint\n",
    "import ast, json\n",
    "import panel as pn\n",
    "import holoviews as hv\n",
    "from PIL import Image\n",
    "from io import BytesIO\n",
    "\n",
    "hv.extension('bokeh', 'matplotlib')\n",
    "pn.extension()"
   ]
  },
  {
   "cell_type": "code",
   "execution_count": null,
   "id": "46b3e442-5878-4570-b89e-78fbc4ed3376",
   "metadata": {},
   "outputs": [],
   "source": [
    "file = pn.widgets.FileInput(value=None)"
   ]
  },
  {
   "cell_type": "code",
   "execution_count": null,
   "id": "672c1a4a-c233-4aae-9674-be26974a2980",
   "metadata": {
    "jupyter": {
     "source_hidden": true
    },
    "tags": []
   },
   "outputs": [],
   "source": [
    "# @pn.depends(file.param.value)\n",
    "# def image_show(file):\n",
    "#     return Image.open(BytesIO(file))"
   ]
  },
  {
   "cell_type": "code",
   "execution_count": null,
   "id": "63e19ebf-220f-4dc1-87cb-5765b05406e5",
   "metadata": {
    "jupyter": {
     "source_hidden": true
    },
    "scrolled": true,
    "tags": []
   },
   "outputs": [],
   "source": [
    "# url_auth = 'https://auth.sypht.com/oauth2/token'\n",
    "# payload_auth = 'client_id=' + '259mg2c0d970ls6ieehvege3vc' + '&grant_type=client_credentials'\n",
    "# auth_slug = '259mg2c0d970ls6ieehvege3vc' + ':' + '3al4aah5jugp5db9omgqr3pvoivh93qk0bc8fqbcra7mnmrbp87'\n",
    "# auth_slug_enc = base64.b64encode(auth_slug.encode('utf-8')).decode('utf-8')\n",
    "# headers_auth = {\n",
    "#   'Accept': 'application/json',\n",
    "#   'Content-Type': 'application/x-www-form-urlencoded',\n",
    "#   'Authorization': 'Basic ' + auth_slug_enc\n",
    "# }\n",
    "\n",
    "# response = requests.request('POST', url_auth, headers=headers_auth, data=payload_auth, allow_redirects=False)\n",
    "\n",
    "# token = json.loads(response.text)[\"access_token\"]\n",
    "\n",
    "# url_load = 'https://api.sypht.com/fileupload'\n",
    "# payload_load = {'products': '[\"invoices\", \"sypht.document\"]'}\n",
    "# files = {'fileToUpload': file.value}\n",
    "# headers_load = {\n",
    "#   'Accept': 'application/json',\n",
    "#   'Authorization': f'Bearer {token}',\n",
    "# }\n",
    "\n",
    "# response_load = requests.request('POST', url_load, headers=headers_load, data=payload_load, files=files, allow_redirects=False)\n",
    "# print(response_load.text)\n",
    "\n",
    "# fileID = json.loads(response_load.text)[\"fileId\"]\n",
    "\n",
    "# url_results = f'https://api.sypht.com/result/final/{fileID}'\n",
    "# headers_results = {\n",
    "#   'Accept': 'application/json',\n",
    "#   'Content-Type': 'application/json',\n",
    "#   'Authorization': f'Bearer {token}'\n",
    "# }\n",
    "# response_results = requests.request('GET', url_results, headers=headers_results, allow_redirects=False)"
   ]
  },
  {
   "cell_type": "code",
   "execution_count": null,
   "id": "9362bc00-5488-48f9-8733-0ac71f852416",
   "metadata": {},
   "outputs": [],
   "source": [
    "@pn.depends(file.param.value)\n",
    "def get_data(file):\n",
    "    \n",
    "    ## Authentication\n",
    "    url_auth = 'https://auth.sypht.com/oauth2/token'\n",
    "    payload_auth = 'client_id=' + '259mg2c0d970ls6ieehvege3vc' + '&grant_type=client_credentials'\n",
    "    auth_slug = '259mg2c0d970ls6ieehvege3vc' + ':' + '3al4aah5jugp5db9omgqr3pvoivh93qk0bc8fqbcra7mnmrbp87'\n",
    "    auth_slug_enc = base64.b64encode(auth_slug.encode('utf-8')).decode('utf-8')\n",
    "    headers_auth = {\n",
    "      'Accept': 'application/json',\n",
    "      'Content-Type': 'application/x-www-form-urlencoded',\n",
    "      'Authorization': 'Basic ' + auth_slug_enc\n",
    "    }\n",
    "    \n",
    "    response = requests.request('POST', url_auth, headers=headers_auth, data=payload_auth, allow_redirects=False)\n",
    "    token = json.loads(response.text)[\"access_token\"]\n",
    "    \n",
    "    if file:\n",
    "    \n",
    "        ## Loading Data\n",
    "        url_load = 'https://api.sypht.com/fileupload'\n",
    "        payload_load = {'products': '[\"sypht.document\"]'}\n",
    "        files = {'fileToUpload': file}\n",
    "        headers_load = {\n",
    "          'Accept': 'application/json',\n",
    "          'Authorization': f'Bearer {token}',\n",
    "        }\n",
    "\n",
    "        response_load = requests.request('POST', url_load, headers=headers_load, data=payload_load, files=files, allow_redirects=False)\n",
    "        fileID = json.loads(response_load.text)[\"fileId\"]\n",
    "\n",
    "\n",
    "        ## Response\n",
    "        url_results = f'https://api.sypht.com/result/final/{fileID}'\n",
    "        headers_results = {\n",
    "          'Accept': 'application/json',\n",
    "          'Content-Type': 'application/json',\n",
    "          'Authorization': f'Bearer {token}'\n",
    "        }\n",
    "        response_results = requests.request('GET', url_results, headers=headers_results, allow_redirects=False)\n",
    "        response_results = json.loads(response_results.text)\n",
    "        the_pic = pn.pane.PNG(BytesIO(file), width=500, height=500, sizing_mode=\"fixed\", align=\"center\")\n",
    "\n",
    "        return pn.Row(pn.pane.JSON(response_results, max_height=500), the_pic, width=910, height=500, sizing_mode=\"fixed\", align=\"center\")"
   ]
  },
  {
   "cell_type": "code",
   "execution_count": null,
   "id": "0c403fdb-303d-4fe2-be9f-159e4a05259c",
   "metadata": {
    "jupyter": {
     "source_hidden": true
    },
    "scrolled": true,
    "tags": []
   },
   "outputs": [],
   "source": [
    "# response_results = json.loads(get_data(file=file).text)\n",
    "# response_results"
   ]
  },
  {
   "cell_type": "code",
   "execution_count": null,
   "id": "1cf78696-69d4-43ac-bd25-c8186b13e91f",
   "metadata": {
    "jupyter": {
     "source_hidden": true
    },
    "tags": []
   },
   "outputs": [],
   "source": [
    "# data.keys()\n",
    "\n",
    "# data['results']\n",
    "\n",
    "# data['results']['fields'][1].keys()\n",
    "\n",
    "# keys_we_want = ['invoice.creditCardDigits', 'document.type', 'document.supplierGSTN', 'issuer.name', \n",
    "#                 'issuer.ABN', 'bpay.billerCode', 'document.date', 'invoice.dueDate', 'issuer.SIRETno', \n",
    "#                 'document.referenceNo', 'issuer.email', 'invoice.lineitems:2', 'invoice.paymentDate', \n",
    "#                 'recipient.referenceNo', 'issuer.ABRLookup', 'invoice.total', 'invoice.currencyCode', \n",
    "#                 'invoice.vat', 'recipient.name', 'recipient.serviceAddress', 'invoice.remittanceEmail', \n",
    "#                 'invoice.purchaseOrderNo', 'recipient.billingAddressComponents', 'invoice.amountDue', \n",
    "#                 'recipient.VATIN', 'invoice.expenseCategory', 'issuer.GSTN', 'invoice.amountPaid', \n",
    "#                 'issuer.category', 'recipient.contactPerson', 'issuer.address', 'recipient.serviceAddressComponents', \n",
    "#                 'issuer.VATIN', 'recipient.billingAddress', 'invoice.lineitems', 'recipient.address', \n",
    "#                 'document.supplierABN', 'invoice.tax', 'invoice.gst', 'bank.accountNo', 'issuer.businessNo', \n",
    "#                 'bank.bsb', 'bpay.crn', 'recipient.ABN', 'invoice.subTotal', 'issuer.companyRegistrationNo']\n",
    "\n",
    "# keys_we_want = ['document.type', 'document.date', 'invoice.dueDate', 'invoice.total', 'invoice.currencyCode', \n",
    "#                 'invoice.vat', 'invoice.amountDue', 'invoice.expenseCategory', 'issuer.category', 'invoice.tax']"
   ]
  },
  {
   "cell_type": "code",
   "execution_count": null,
   "id": "fb7b445b-c833-44f0-b8b9-fc8ac39b51c8",
   "metadata": {
    "jupyter": {
     "source_hidden": true
    },
    "scrolled": true,
    "tags": []
   },
   "outputs": [],
   "source": [
    "# var1 = ''\n",
    "# for idx, key in enumerate(data['results']['fields']):\n",
    "# #     print(key)\n",
    "# #     if key['name']:\n",
    "#     for i in keys_we_want:\n",
    "#         if key['name'] == i:\n",
    "#             print(i)\n",
    "#             pprint(key['value'])\n",
    "# #         for idxs, another in key.items():\n",
    "# #             if 'value' in another:\n",
    "# #                 print(another)\n",
    "# #         print(key['name'])"
   ]
  },
  {
   "cell_type": "code",
   "execution_count": null,
   "id": "15b20eb7-b4f9-4528-8edc-8426a549fe29",
   "metadata": {
    "jupyter": {
     "source_hidden": true
    },
    "tags": []
   },
   "outputs": [],
   "source": [
    "# # @get_data\n",
    "# def get_some_nums(response_results):\n",
    "    \n",
    "#     data = json.loads(response_results.text)\n",
    "#     keys_we_want = ['document.date', 'invoice.dueDate', 'invoice.total']\n",
    "    \n",
    "#     var1 = []\n",
    "#     for key in data['results']['fields']:\n",
    "#         for i in keys_we_want:\n",
    "#             if key['name'] == i: var1.append(key['value'])\n",
    "                \n",
    "#     return var1[0], var1[1], var1[2]\n",
    "\n",
    "# a, b, c = get_some_nums(response_results)\n",
    "\n",
    "# # def ban_text(title, value):\n",
    "# #     try:\n",
    "# #         float(value)\n",
    "# #         return pn.pane.Markdown(f\"# {title}\\n# ${value}\", style={\"color\": \"#d8dee9\"}, width=500, \n",
    "# #                           sizing_mode=\"fixed\", margin=(10,5,10,15))\n",
    "# #     except:\n",
    "# #         return pn.pane.Markdown(f\"# {title}\\n# {value}\", style={\"color\": \"#d8dee9\"}, align='center',sizing_mode=\"fixed\")\n",
    "\n",
    "# # def ban_num(title, value):\n",
    "# #     return pn.indicators.Number(name=f\"{title}\", value=int(value), default_color='#d8dee9', #margin=(40, 30, 0, 50),\n",
    "# #                                 font_size='20pt', title_size='20pt', align='center')\n",
    "\n",
    "# ban1 = pn.pane.Markdown(f\"# Issue Date\\n# {a}\", style={\"color\": \"#d8dee9\"}, align='center',sizing_mode=\"fixed\")\n",
    "# ban2 = pn.pane.Markdown(f\"# Due Date\\n# {b}\", style={\"color\": \"#d8dee9\"}, align='center',sizing_mode=\"fixed\")\n",
    "# ban3 = pn.pane.Markdown(f\"# Invoice Total\\n# ${c}\", style={\"color\": \"#d8dee9\"}, align='center',sizing_mode=\"fixed\")\n",
    "# ban4 = pn.pane.Markdown(f\"# # of Pages\\n# {data['results']['numPages']}\", style={\"color\": \"#d8dee9\"}, align='center',sizing_mode=\"fixed\")"
   ]
  },
  {
   "cell_type": "markdown",
   "id": "2cbc1042-d133-4c94-85a2-11fc3e94253d",
   "metadata": {},
   "source": [
    "# App"
   ]
  },
  {
   "cell_type": "code",
   "execution_count": null,
   "id": "8b96a484-d724-4a6a-bfae-07af86e1d64c",
   "metadata": {},
   "outputs": [],
   "source": [
    "header = pn.pane.Markdown(\"# Document Analyzer App\", style={\"color\": \"#3b4252\"}, width=500, \n",
    "                          sizing_mode=\"stretch_width\", margin=(10,5,10,15))\n",
    "\n",
    "p1 = pn.pane.PNG(\"https://www.seekpng.com/png/full/265-2650386_clipart-info-cartoon-document.png\", \n",
    "                 height=50, sizing_mode=\"fixed\", align=\"center\")\n",
    "p2 = pn.pane.PNG(\"https://image.shutterstock.com/image-vector/pile-document-cartoon-vector-illustration-600w-547626148.jpg\", \n",
    "                 height=50, sizing_mode=\"fixed\", align=\"center\")\n",
    "title = pn.Row(header, pn.Spacer(), p1, p2, background=\"#d8dee9\", sizing_mode='fixed', width=910, height=70)\n",
    "\n",
    "text = pn.pane.Markdown(\"\"\"\n",
    "    This app uses the Sypht API to analyze invoices. It can currently take one at a time, produce a view of the\n",
    "    invoice, and return 4 useful pieces of info from it. There is more to come soon.\n",
    "\n",
    "\"\"\", style={\"color\": \"#d8dee9\"})\n",
    "\n",
    "file_button_title = pn.Column(pn.pane.Markdown(\"# Upload an Invoice\", style={\"color\": \"#d8dee9\"}), file)\n",
    "\n",
    "row2 = pn.Row(text, pn.Spacer(width=70), file_button_title, width=910, height=350, sizing_mode=\"fixed\", align=\"center\")"
   ]
  },
  {
   "cell_type": "code",
   "execution_count": null,
   "id": "56a28a46-9791-4422-b387-338ecce5e62e",
   "metadata": {
    "jupyter": {
     "source_hidden": true
    },
    "tags": []
   },
   "outputs": [],
   "source": [
    "# bans = pn.Row(pn.Column(ban1, ban2), pn.Column(ban3, ban4), width=400, height=350, sizing_mode=\"fixed\", align=\"center\")"
   ]
  },
  {
   "cell_type": "code",
   "execution_count": null,
   "id": "3b4629b2-b6e6-40f3-9f60-1a981023b36c",
   "metadata": {
    "jupyter": {
     "source_hidden": true
    },
    "tags": []
   },
   "outputs": [],
   "source": [
    "# def make_img(file):\n",
    "#     return pn.pane.PNG(BytesIO(file), width=500, height=350, sizing_mode=\"fixed\", align=\"center\")"
   ]
  },
  {
   "cell_type": "code",
   "execution_count": null,
   "id": "39faf8d0-93ff-4e8b-b116-a8e09b08ed77",
   "metadata": {
    "jupyter": {
     "source_hidden": true
    },
    "tags": []
   },
   "outputs": [],
   "source": [
    "# row3 = pn.Row(get_data, width=910, height=360)"
   ]
  },
  {
   "cell_type": "code",
   "execution_count": null,
   "id": "5dc5addb-d127-4950-a3e7-d13e6e7f5898",
   "metadata": {
    "jupyter": {
     "source_hidden": true
    },
    "tags": []
   },
   "outputs": [],
   "source": [
    "# app = pn.Column(title, row2, row3, background='#3b4252')\n",
    "# app.servable()"
   ]
  },
  {
   "cell_type": "code",
   "execution_count": null,
   "id": "dde4ef21-ff7e-42c0-a186-bc2613dc252e",
   "metadata": {},
   "outputs": [],
   "source": [
    "app = pn.Column(title, row2, get_data, background='#3b4252', width=910, height=1000, sizing_mode=\"fixed\", align=\"center\")\n",
    "app.servable()"
   ]
  },
  {
   "cell_type": "code",
   "execution_count": null,
   "id": "1b1bd833-d63d-4281-aba4-b06fe4c901ba",
   "metadata": {},
   "outputs": [],
   "source": []
  }
 ],
 "metadata": {
  "kernelspec": {
   "display_name": "Python 3",
   "language": "python",
   "name": "python3"
  },
  "language_info": {
   "codemirror_mode": {
    "name": "ipython",
    "version": 3
   },
   "file_extension": ".py",
   "mimetype": "text/x-python",
   "name": "python",
   "nbconvert_exporter": "python",
   "pygments_lexer": "ipython3",
   "version": "3.9.5"
  }
 },
 "nbformat": 4,
 "nbformat_minor": 5
}
